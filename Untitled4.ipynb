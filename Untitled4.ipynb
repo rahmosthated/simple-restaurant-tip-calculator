{
  "nbformat": 4,
  "nbformat_minor": 0,
  "metadata": {
    "colab": {
      "provenance": [],
      "authorship_tag": "ABX9TyMdEqT8Wrr42ojcymYpSHWU",
      "include_colab_link": true
    },
    "kernelspec": {
      "name": "python3",
      "display_name": "Python 3"
    },
    "language_info": {
      "name": "python"
    }
  },
  "cells": [
    {
      "cell_type": "markdown",
      "metadata": {
        "id": "view-in-github",
        "colab_type": "text"
      },
      "source": [
        "<a href=\"https://colab.research.google.com/github/rahmosthated/simple-restaurant-tip-calculator/blob/main/Untitled4.ipynb\" target=\"_parent\"><img src=\"https://colab.research.google.com/assets/colab-badge.svg\" alt=\"Open In Colab\"/></a>"
      ]
    },
    {
      "cell_type": "code",
      "execution_count": null,
      "metadata": {
        "id": "tk-tfAOSO-gR"
      },
      "outputs": [],
      "source": [
        "# Ask the user for the temperature in Celsius\n",
        "temp_input = input(\"Enter the temperature in Celsius: \")\n",
        "\n",
        "# Try to convert the input to a float\n",
        "try:\n",
        "    temperature = float(temp_input)\n",
        "except ValueError:\n",
        "    print(\"Error: Please enter a valid number for the temperature.\")\n",
        "    exit()\n",
        "\n",
        "# Ask if it's rainy\n",
        "rainy = input(\"Is it rainy? (yes or no): \").lower()\n",
        "\n",
        "# Give clothing advice based on the temperature\n",
        "if temperature < 0:\n",
        "    print(\"It's freezing! Wear heavy winter clothing.\")\n",
        "elif 0 <= temperature <= 20:\n",
        "    print(\"It's a bit chilly. You should wear a jacket.\")\n",
        "else:\n",
        "    print(\"The weather is warm. Light clothing is fine.\")\n",
        "\n",
        "# Suggest bringing an umbrella if it's cold and rainy\n",
        "if temperature < 15 and rainy == \"yes\":\n",
        "    print(\"Also, don't forget to bring an umbrella!\")\n"
      ]
    }
  ]
}