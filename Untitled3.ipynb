{
 "cells": [
  {
   "cell_type": "code",
   "execution_count": 1,
   "metadata": {
    "id": "8h8rywmHBwI7"
   },
   "outputs": [
    {
     "name": "stdout",
     "output_type": "stream",
     "text": [
      "Tip amount: $1.20\n"
     ]
    }
   ],
   "source": [
    "# Ask the user for the total bill\n",
    "total_bill = input(\"Enter the total bill amount: \")\n",
    "\n",
    "# Try to convert the bill to a float\n",
    "try:\n",
    "    total_bill = float(total_bill)\n",
    "except ValueError:\n",
    "    print(\"Error: Please enter a valid number for the bill.\")\n",
    "    exit()\n",
    "\n",
    "# Ask the user for their level of satisfaction\n",
    "satisfaction = input(\"How was your experience? (good, average, bad): \").lower()\n",
    "\n",
    "# Calculate the tip based on satisfaction level\n",
    "if satisfaction == \"good\":\n",
    "    tip = total_bill * 0.20\n",
    "    print(f\"Tip amount: ${tip:.2f}\")\n",
    "elif satisfaction == \"average\":\n",
    "    tip = total_bill * 0.10\n",
    "    print(f\"Tip amount: ${tip:.2f}\")\n",
    "elif satisfaction == \"bad\":\n",
    "    tip = 0\n",
    "    print(\"No tip.\")\n",
    "else:\n",
    "    print(\"Error: Invalid satisfaction level. Please enter 'good', 'average', or 'bad'.\")\n"
   ]
  },
  {
   "cell_type": "code",
   "execution_count": null,
   "metadata": {},
   "outputs": [],
   "source": [
    "# Ask the user for the temperature in Celsius\n",
    "temp_input = input(\"Enter the temperature in Celsius: \")\n",
    "\n",
    "# Try to convert the input to a float\n",
    "try:\n",
    "    temperature = float(temp_input)\n",
    "except ValueError:\n",
    "    print(\"Error: Please enter a valid number for the temperature.\")\n",
    "    exit()\n",
    "\n",
    "# Ask if it's rainy\n",
    "rainy = input(\"Is it rainy? (yes or no): \").lower()\n",
    "\n",
    "# Give clothing advice based on the temperature\n",
    "if temperature < 0:\n",
    "    print(\"It's freezing! Wear heavy winter clothing.\")\n",
    "elif 0 <= temperature <= 20:\n",
    "    print(\"It's a bit chilly. You should wear a jacket.\")\n",
    "else:\n",
    "    print(\"The weather is warm. Light clothing is fine.\")\n",
    "\n",
    "# Suggest bringing an umbrella if it's cold and rainy\n",
    "if temperature < 15 and rainy == \"yes\":\n",
    "    print(\"Also, don't forget to bring an umbrella!\")\n"
   ]
  },
  {
   "cell_type": "code",
   "execution_count": null,
   "metadata": {},
   "outputs": [],
   "source": []
  }
 ],
 "metadata": {
  "colab": {
   "authorship_tag": "ABX9TyOMx4Ie/NhdZr14GFiIf4JN",
   "provenance": []
  },
  "kernelspec": {
   "display_name": "Python 3",
   "name": "python3"
  },
  "language_info": {
   "codemirror_mode": {
    "name": "ipython",
    "version": 3
   },
   "file_extension": ".py",
   "mimetype": "text/x-python",
   "name": "python",
   "nbconvert_exporter": "python",
   "pygments_lexer": "ipython3",
   "version": "3.12.1"
  }
 },
 "nbformat": 4,
 "nbformat_minor": 0
}
