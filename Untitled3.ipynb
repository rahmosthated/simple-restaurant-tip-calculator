{
 "cells": [
  {
   "cell_type": "code",
   "execution_count": 1,
   "metadata": {
    "id": "8h8rywmHBwI7"
   },
   "outputs": [
    {
     "name": "stdout",
     "output_type": "stream",
     "text": [
      "Tip amount: $1.20\n"
     ]
    }
   ],
   "source": [
    "# Ask the user for the total bill\n",
    "total_bill = input(\"Enter the total bill amount: \")\n",
    "\n",
    "# Try to convert the bill to a float\n",
    "try:\n",
    "    total_bill = float(total_bill)\n",
    "except ValueError:\n",
    "    print(\"Error: Please enter a valid number for the bill.\")\n",
    "    exit()\n",
    "\n",
    "# Ask the user for their level of satisfaction\n",
    "satisfaction = input(\"How was your experience? (good, average, bad): \").lower()\n",
    "\n",
    "# Calculate the tip based on satisfaction level\n",
    "if satisfaction == \"good\":\n",
    "    tip = total_bill * 0.20\n",
    "    print(f\"Tip amount: ${tip:.2f}\")\n",
    "elif satisfaction == \"average\":\n",
    "    tip = total_bill * 0.10\n",
    "    print(f\"Tip amount: ${tip:.2f}\")\n",
    "elif satisfaction == \"bad\":\n",
    "    tip = 0\n",
    "    print(\"No tip.\")\n",
    "else:\n",
    "    print(\"Error: Invalid satisfaction level. Please enter 'good', 'average', or 'bad'.\")\n"
   ]
  },
  {
 
